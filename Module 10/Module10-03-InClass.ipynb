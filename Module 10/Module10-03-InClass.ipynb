{
 "cells": [
  {
   "cell_type": "code",
   "execution_count": null,
   "metadata": {
    "collapsed": false,
    "jupyter": {
     "outputs_hidden": false
    }
   },
   "outputs": [],
   "source": [
    "%matplotlib inline"
   ]
  },
  {
   "cell_type": "markdown",
   "metadata": {},
   "source": [
    "\n",
    "# Early stopping of Gradient Boosting\n",
    "\n",
    "Gradient boosting is an ensembling technique where several weak learners\n",
    "(regression trees) are combined to yield a powerful single model, in an\n",
    "iterative fashion.\n",
    "\n",
    "Early stopping support in Gradient Boosting enables us to find the least number\n",
    "of iterations which is sufficient to build a model that generalizes well to\n",
    "unseen data.\n",
    "\n",
    "The concept of early stopping is simple. We specify a ``validation_fraction``\n",
    "which denotes the fraction of the whole dataset that will be kept aside from\n",
    "training to assess the validation loss of the model. The gradient boosting\n",
    "model is trained using the training set and evaluated using the validation set.\n",
    "When each additional stage of regression tree is added, the validation set is\n",
    "used to score the model.  This is continued until the scores of the model in\n",
    "the last ``n_iter_no_change`` stages do not improve by atleast `tol`. After\n",
    "that the model is considered to have converged and further addition of stages\n",
    "is \"stopped early\".\n",
    "\n",
    "The number of stages of the final model is available at the attribute\n",
    "``n_estimators_``.\n",
    "\n",
    "This example illustrates how the early stopping can used in the\n",
    ":class:`~sklearn.ensemble.GradientBoostingClassifier` model to achieve\n",
    "almost the same accuracy as compared to a model built without early stopping\n",
    "using many fewer estimators. This can significantly reduce training time,\n",
    "memory usage and prediction latency.\n"
   ]
  },
  {
   "cell_type": "code",
   "execution_count": 1,
   "metadata": {
    "collapsed": false,
    "jupyter": {
     "outputs_hidden": false
    }
   },
   "outputs": [],
   "source": [
    "\n",
    "import time\n",
    "\n",
    "import numpy as np\n",
    "import matplotlib.pyplot as plt\n",
    "\n",
    "from sklearn.ensemble import GradientBoostingClassifier\n",
    "from sklearn.datasets import load_digits\n",
    "from sklearn.model_selection import train_test_split\n",
    "\n"
   ]
  },
  {
   "cell_type": "markdown",
   "metadata": {},
   "source": [
    "\n",
    "- Load digits data set using `load_digits()`\n",
    "- Train `GradientBoostingCLassifier` with and without early stopping\n",
    "- Keep a timer for both cases and report the time it takes to train both models\n",
    "- Report the scores for both models"
   ]
  },
  {
   "cell_type": "code",
   "execution_count": null,
   "metadata": {},
   "outputs": [],
   "source": [
    "from sklearn.metrics import accuracy_score, roc_auc_score\n",
    "\n",
    "# Load digits dataset\n",
    "digits = load_digits()\n",
    "X = digits.data\n",
    "y = digits.target\n",
    "\n",
    "# Convert to a binary classification problem for ROC AUC score\n",
    "y = (y == 1).astype(int)  # Considering class 1 as positive class\n",
    "\n",
    "# Split the data into train and test sets\n",
    "X_train, X_test, y_train, y_test = train_test_split(X, y, test_size=0.33, random_state=42)\n"
   ]
  },
  {
   "cell_type": "code",
   "execution_count": 3,
   "metadata": {},
   "outputs": [],
   "source": [
    "# Initialize the classifier without early stopping\n",
    "gb_clf_no_early_stopping = GradientBoostingClassifier(n_estimators=1000, random_state=42)\n",
    "\n",
    "# Measure the time taken to train the model without early stopping\n",
    "start_time = time.time()\n",
    "gb_clf_no_early_stopping.fit(X_train, y_train)\n",
    "time_no_early_stopping = time.time() - start_time\n",
    "\n",
    "# Predict and calculate the score\n",
    "y_proba_no_early_stopping = gb_clf_no_early_stopping.predict_proba(X_test)[:, 1]\n",
    "roc_auc_no_early_stopping = roc_auc_score(y_test, y_proba_no_early_stopping)\n",
    "accuracy_no_early_stopping = accuracy_score(y_test, gb_clf_no_early_stopping.predict(X_test))\n"
   ]
  },
  {
   "cell_type": "code",
   "execution_count": 4,
   "metadata": {},
   "outputs": [],
   "source": [
    "# Initialize the classifier with early stopping\n",
    "gb_clf_early_stopping = GradientBoostingClassifier(\n",
    "    n_estimators=1000,\n",
    "    validation_fraction=0.1,\n",
    "    n_iter_no_change=10,\n",
    "    tol=1e-4,\n",
    "    random_state=42\n",
    ")\n",
    "\n",
    "# Measure the time taken to train the model with early stopping\n",
    "start_time = time.time()\n",
    "gb_clf_early_stopping.fit(X_train, y_train)\n",
    "time_early_stopping = time.time() - start_time\n",
    "\n",
    "# Predict and calculate the score\n",
    "y_proba_early_stopping = gb_clf_early_stopping.predict_proba(X_test)[:, 1]\n",
    "roc_auc_early_stopping = roc_auc_score(y_test, y_proba_early_stopping)\n",
    "accuracy_early_stopping = accuracy_score(y_test, gb_clf_early_stopping.predict(X_test))\n",
    "\n",
    "# Number of stages where early stopping occurred\n",
    "n_estimators_used = gb_clf_early_stopping.n_estimators_\n"
   ]
  },
  {
   "cell_type": "code",
   "execution_count": 5,
   "metadata": {},
   "outputs": [
    {
     "name": "stdout",
     "output_type": "stream",
     "text": [
      "Training time without early stopping: 4.38 seconds\n",
      "ROC AUC score without early stopping: 1.00\n",
      "Accuracy without early stopping: 0.99\n",
      "Training time with early stopping: 0.63 seconds\n",
      "ROC AUC score with early stopping: 1.00\n",
      "Accuracy with early stopping: 0.99\n",
      "Number of estimators used with early stopping: 125\n"
     ]
    }
   ],
   "source": [
    "print(f'Training time without early stopping: {time_no_early_stopping:.2f} seconds')\n",
    "print(f'ROC AUC score without early stopping: {roc_auc_no_early_stopping:.2f}')\n",
    "print(f'Accuracy without early stopping: {accuracy_no_early_stopping:.2f}')\n",
    "\n",
    "print(f'Training time with early stopping: {time_early_stopping:.2f} seconds')\n",
    "print(f'ROC AUC score with early stopping: {roc_auc_early_stopping:.2f}')\n",
    "print(f'Accuracy with early stopping: {accuracy_early_stopping:.2f}')\n",
    "print(f'Number of estimators used with early stopping: {n_estimators_used}')\n"
   ]
  }
 ],
 "metadata": {
  "kernelspec": {
   "display_name": "Python 3",
   "language": "python",
   "name": "python3"
  },
  "language_info": {
   "codemirror_mode": {
    "name": "ipython",
    "version": 3
   },
   "file_extension": ".py",
   "mimetype": "text/x-python",
   "name": "python",
   "nbconvert_exporter": "python",
   "pygments_lexer": "ipython3",
   "version": "3.11.9"
  }
 },
 "nbformat": 4,
 "nbformat_minor": 4
}
