{
 "cells": [
  {
   "cell_type": "code",
   "execution_count": 2,
   "metadata": {},
   "outputs": [],
   "source": [
    "import numpy as np\n",
    "import matplotlib.pyplot as plt\n",
    "# %matplotlib inline\n",
    "plt.rcParams[\"figure.dpi\"] = 100\n",
    "plt.rcParams[\"savefig.bbox\"] = \"tight\"\n",
    "\n",
    "np.set_printoptions(precision=3)\n",
    "import pandas as pd"
   ]
  },
  {
   "cell_type": "markdown",
   "metadata": {},
   "source": [
    "### 1. Voting Classifier"
   ]
  },
  {
   "cell_type": "markdown",
   "metadata": {},
   "source": [
    "- Import `LogisticRegression`, `DecisionTreeClassifier`, `VotingClassifier` classes\n",
    "- Import `make_moons` function from `sklearn.datasets`\n",
    "- Split data into test and train datasets\n",
    "- Create a voting classifier using logistic regressor and a tree classifier. Use soft voting.\n",
    "- Print the scores for ensembeled model, logistic regressor and the decision tree.\n",
    "- If you like, you can show the decision boundaries on a contour plot"
   ]
  },
  {
   "cell_type": "code",
   "execution_count": null,
   "metadata": {},
   "outputs": [
    {
     "name": "stdout",
     "output_type": "stream",
     "text": [
      "0.98\n"
     ]
    }
   ],
   "source": [
    "\n",
    "M = []\n",
    "\n",
    "for j in range(1000):\n",
    "    H = 0\n",
    "    for i in range(10000):\n",
    "        if np.random.random() > 0.49:\n",
    "            H += 1\n",
    "        \n",
    "    M.append([H/10000>0.5]*1)\n",
    "\n",
    "print(np.array(M).sum()/1000)"
   ]
  },
  {
   "cell_type": "code",
   "execution_count": 11,
   "metadata": {},
   "outputs": [
    {
     "data": {
      "text/plain": [
       "0"
      ]
     },
     "execution_count": 11,
     "metadata": {},
     "output_type": "execute_result"
    }
   ],
   "source": [
    "(1/1000 > 0.5) * 1"
   ]
  },
  {
   "cell_type": "code",
   "execution_count": null,
   "metadata": {},
   "outputs": [],
   "source": [
    "from sklearn.ensemble import VotingClassifier\n",
    "from sklearn.linear_model import LogisticRegression\n",
    "from sklearn.model_selection import train_test_split\n",
    "from sklearn.tree import DecisionTreeClassifier\n",
    "from sklearn import datasets\n",
    "\n",
    "\n",
    "# lfw = datasets.make_moons(min_faces_per_person=70, resize=0.4)\n",
    "\n",
    "# X = lfw.data\n",
    "\n",
    "# y = lfw.target\n",
    "\n",
    "\n",
    "X_train, X_test, y_train, y_test = train_test_split(X, y, test_size=0.25, random_state=42)\n",
    "\n",
    "\n",
    "voting = VotingClassifier(\n",
    "    [('logreg', LogisticRegression(C=100)),\n",
    "     ('tree', DecisionTreeClassifier(max_depth=3, random_state=0))],\n",
    "    voting='soft')\n",
    "\n",
    "voting.fit(X_train, y_train)\n",
    "lr, tree = voting.estimators_\n",
    "\n",
    "voting.score(X_test, y_test), lr.score(X_test, y_test), tree.score(X_test, y_test)"
   ]
  },
  {
   "cell_type": "markdown",
   "metadata": {},
   "source": [
    "### 2.  Random Forests"
   ]
  },
  {
   "cell_type": "markdown",
   "metadata": {},
   "source": [
    "### 2.1\n",
    "- Import `RandomForestClassifier`\n",
    "- Import `load_digits`\n",
    "- Split fdata into train and test datasets\n",
    "- Start a random forest model with `warm_start=True`\n",
    "- Train the model for different number of estimators from 1 to 100 in steps of 5 in a loop\n",
    "- Store train and test scores for each estimator and plot"
   ]
  },
  {
   "cell_type": "code",
   "execution_count": null,
   "metadata": {},
   "outputs": [],
   "source": []
  },
  {
   "cell_type": "markdown",
   "metadata": {},
   "source": [
    "### 2.2\n",
    "- Import `RandomForestClassifier`\n",
    "- Import `load_digits`\n",
    "- Split fdata into train and test datasets\n",
    "- Train the random forest model for different number of `max_features` from 1 to 60 in steps of 5 in a loop\n",
    "- Set `n_estimators=200` and `oob_score=True`\n",
    "- Store train, test, and oob scores for each estimator and plot"
   ]
  },
  {
   "cell_type": "code",
   "execution_count": null,
   "metadata": {},
   "outputs": [],
   "source": []
  },
  {
   "cell_type": "markdown",
   "metadata": {},
   "source": [
    "### 2.3\n",
    "- Import `RandomForestClassifier`\n",
    "- Import `load_iris`\n",
    "- Split fdata into train and test datasets\n",
    "- Train a random forest model for `n_estimators=100`\n",
    "- Print the geature importance values\n",
    "- Create a bar plot for the feature importances"
   ]
  },
  {
   "cell_type": "code",
   "execution_count": null,
   "metadata": {},
   "outputs": [],
   "source": []
  }
 ],
 "metadata": {
  "kernelspec": {
   "display_name": "Python 3",
   "language": "python",
   "name": "python3"
  },
  "language_info": {
   "codemirror_mode": {
    "name": "ipython",
    "version": 3
   },
   "file_extension": ".py",
   "mimetype": "text/x-python",
   "name": "python",
   "nbconvert_exporter": "python",
   "pygments_lexer": "ipython3",
   "version": "3.11.9"
  }
 },
 "nbformat": 4,
 "nbformat_minor": 4
}
