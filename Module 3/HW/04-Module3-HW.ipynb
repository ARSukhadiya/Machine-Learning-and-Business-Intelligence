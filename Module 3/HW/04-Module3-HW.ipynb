{
 "cells": [
  {
   "cell_type": "markdown",
   "metadata": {},
   "source": [
    "# Preprocessing"
   ]
  },
  {
   "cell_type": "code",
   "execution_count": 1,
   "metadata": {},
   "outputs": [],
   "source": [
    "import numpy as np\n",
    "import matplotlib.pyplot as plt\n",
    "%matplotlib inline"
   ]
  },
  {
   "cell_type": "markdown",
   "metadata": {},
   "source": [
    "### Step 1:\n",
    "- Read the boston house dataset\n",
    "\n",
    "- Create train and test datasets. "
   ]
  },
  {
   "cell_type": "code",
   "execution_count": null,
   "metadata": {},
   "outputs": [],
   "source": [
    "import pandas as pd\n",
    "from sklearn.model_selection import train_test_split\n",
    "\n",
    "\n",
    "# Load the dataset\n",
    "boston_data = pd.read_csv('boston_house_prices.csv')\n",
    "\n",
    "\n",
    "# Load the Boston housing dataset\n",
    "X = pd.DataFrame(boston_data.data, columns=boston_data.feature_names)\n",
    "y = pd.Series(boston_data.target)\n",
    "\n",
    "# Create train and test datasets\n",
    "X_train, X_test, y_train, y_test = train_test_split(X, y, test_size=0.2, random_state=42)\n",
    "\n",
    "# Print shapes of the datasets\n",
    "print(\"X_train shape:\", X_train.shape)\n",
    "print(\"X_test shape:\", X_test.shape)\n",
    "print(\"y_train shape:\", y_train.shape)\n",
    "print(\"y_test shape:\", y_test.shape)"
   ]
  },
  {
   "cell_type": "markdown",
   "metadata": {},
   "source": [
    "### Step 2:\n",
    "Create a scatter plot of each attribute with the mean house price."
   ]
  },
  {
   "cell_type": "code",
   "execution_count": null,
   "metadata": {},
   "outputs": [],
   "source": [
    "import matplotlib.pyplot as plt\n",
    "import seaborn as sns\n",
    "\n",
    "# Calculate the mean house price\n",
    "mean_price = y.mean()\n",
    "\n",
    "# Create scatter plots for each feature against the mean house price\n",
    "plt.figure(figsize=(15, 10))\n",
    "\n",
    "for i, column in enumerate(X.columns):\n",
    "    plt.subplot(4, 4, i + 1)  # Adjusting the subplot layout\n",
    "    plt.scatter(X[column], y, alpha=0.5)\n",
    "    plt.axhline(y=mean_price, color='r', linestyle='--')  # Line for mean price\n",
    "    plt.title(f'Scatter Plot of {column} vs House Price')\n",
    "    plt.xlabel(column)\n",
    "    plt.ylabel('House Price')\n",
    "    \n",
    "plt.tight_layout()\n",
    "plt.show()"
   ]
  },
  {
   "cell_type": "markdown",
   "metadata": {},
   "source": [
    "### Step 3:\n",
    "Create a box plot of all attributes."
   ]
  },
  {
   "cell_type": "code",
   "execution_count": null,
   "metadata": {},
   "outputs": [],
   "source": [
    "import matplotlib.pyplot as plt\n",
    "import seaborn as sns\n",
    "\n",
    "# Set the figure size\n",
    "plt.figure(figsize=(15, 10))\n",
    "\n",
    "# Create a box plot for each attribute\n",
    "sns.boxplot(data=X)\n",
    "plt.title('Box Plot of Boston Housing Attributes')\n",
    "plt.xticks(rotation=45)\n",
    "plt.xlabel('Attributes')\n",
    "plt.ylabel('Value')\n",
    "\n",
    "# Show the plot\n",
    "plt.tight_layout()\n",
    "plt.show()"
   ]
  },
  {
   "cell_type": "markdown",
   "metadata": {},
   "source": [
    "### Step 4:\n",
    "Use `StandardScaler()` to scale the trainin data set."
   ]
  },
  {
   "cell_type": "code",
   "execution_count": null,
   "metadata": {},
   "outputs": [],
   "source": [
    "from sklearn.preprocessing import StandardScaler\n",
    "\n",
    "# Instantiate the StandardScaler\n",
    "scaler = StandardScaler()\n",
    "\n",
    "# Fit the scaler on the training data and transform it\n",
    "X_train_scaled = scaler.fit_transform(X_train)\n",
    "\n",
    "# Optionally, transform the test data using the same scaler\n",
    "X_test_scaled = scaler.transform(X_test)\n",
    "\n",
    "# Print the shapes of the scaled datasets\n",
    "print(\"Scaled X_train shape:\", X_train_scaled.shape)\n",
    "print(\"Scaled X_test shape:\", X_test_scaled.shape)"
   ]
  },
  {
   "cell_type": "markdown",
   "metadata": {},
   "source": [
    "### Step 5:\n",
    "Use `KNeighborsRegressor()` to fit both not-scaled and scaled datasets. Check the scores of test dataset for both models."
   ]
  },
  {
   "cell_type": "code",
   "execution_count": null,
   "metadata": {},
   "outputs": [],
   "source": [
    "from sklearn.neighbors import KNeighborsRegressor\n",
    "from sklearn.metrics import mean_squared_error\n",
    "\n",
    "# 1. Fit the model on the not-scaled dataset\n",
    "knn_not_scaled = KNeighborsRegressor(n_neighbors=5)\n",
    "knn_not_scaled.fit(X_train, y_train)\n",
    "\n",
    "# 2. Predict and calculate the score on the test dataset (not scaled)\n",
    "y_pred_not_scaled = knn_not_scaled.predict(X_test)\n",
    "score_not_scaled = knn_not_scaled.score(X_test, y_test)\n",
    "mse_not_scaled = mean_squared_error(y_test, y_pred_not_scaled)\n",
    "\n",
    "# 3. Fit the model on the scaled dataset\n",
    "knn_scaled = KNeighborsRegressor(n_neighbors=5)\n",
    "knn_scaled.fit(X_train_scaled, y_train)\n",
    "\n",
    "# 4. Predict and calculate the score on the test dataset (scaled)\n",
    "y_pred_scaled = knn_scaled.predict(X_test_scaled)\n",
    "score_scaled = knn_scaled.score(X_test_scaled, y_test)\n",
    "mse_scaled = mean_squared_error(y_test, y_pred_scaled)\n",
    "\n",
    "# 5. Print the scores and Mean Squared Errors\n",
    "print(\"Test score (Not Scaled):\", score_not_scaled)\n",
    "print(\"Mean Squared Error (Not Scaled):\", mse_not_scaled)\n",
    "\n",
    "print(\"Test score (Scaled):\", score_scaled)\n",
    "print(\"Mean Squared Error (Scaled):\", mse_scaled)"
   ]
  },
  {
   "cell_type": "markdown",
   "metadata": {},
   "source": [
    "### Step 6:\n",
    "Repeat Step 5 for `RandomForestRegressor`. Use\n",
    "\n",
    "`RandomForestRegressor(n_estimators=100, random_state=0)`"
   ]
  },
  {
   "cell_type": "code",
   "execution_count": null,
   "metadata": {},
   "outputs": [],
   "source": [
    "from sklearn.ensemble import RandomForestRegressor\n",
    "\n",
    "# 1. Fit the model on the not-scaled dataset\n",
    "rf_not_scaled = RandomForestRegressor(n_estimators=100, random_state=0)\n",
    "rf_not_scaled.fit(X_train, y_train)\n",
    "\n",
    "# 2. Predict and calculate the score on the test dataset (not scaled)\n",
    "y_pred_rf_not_scaled = rf_not_scaled.predict(X_test)\n",
    "score_rf_not_scaled = rf_not_scaled.score(X_test, y_test)\n",
    "mse_rf_not_scaled = mean_squared_error(y_test, y_pred_rf_not_scaled)\n",
    "\n",
    "# 3. Fit the model on the scaled dataset\n",
    "rf_scaled = RandomForestRegressor(n_estimators=100, random_state=0)\n",
    "rf_scaled.fit(X_train_scaled, y_train)\n",
    "\n",
    "# 4. Predict and calculate the score on the test dataset (scaled)\n",
    "y_pred_rf_scaled = rf_scaled.predict(X_test_scaled)\n",
    "score_rf_scaled = rf_scaled.score(X_test_scaled, y_test)\n",
    "mse_rf_scaled = mean_squared_error(y_test, y_pred_rf_scaled)\n",
    "\n",
    "# 5. Print the scores and Mean Squared Errors\n",
    "print(\"Test score (Not Scaled):\", score_rf_not_scaled)\n",
    "print(\"Mean Squared Error (Not Scaled):\", mse_rf_not_scaled)\n",
    "\n",
    "print(\"Test score (Scaled):\", score_rf_scaled)\n",
    "print(\"Mean Squared Error (Scaled):\", mse_rf_scaled)\n"
   ]
  }
 ],
 "metadata": {
  "kernelspec": {
   "display_name": "Python 3 (ipykernel)",
   "language": "python",
   "name": "python3"
  },
  "language_info": {
   "codemirror_mode": {
    "name": "ipython",
    "version": 3
   },
   "file_extension": ".py",
   "mimetype": "text/x-python",
   "name": "python",
   "nbconvert_exporter": "python",
   "pygments_lexer": "ipython3",
   "version": "3.11.9"
  }
 },
 "nbformat": 4,
 "nbformat_minor": 4
}
