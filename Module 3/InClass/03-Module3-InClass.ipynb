{
 "cells": [
  {
   "cell_type": "markdown",
   "id": "bf3871cb-d52a-4a14-9c9d-7e760f8d0734",
   "metadata": {},
   "source": [
    "You are given a dataset called ’Diabetes.csv’.\n",
    "- Load the dataset\n",
    "- Print the first ten observations on the screen\n",
    "-  Check the shape of the dataset\n",
    "-  Print the column names of the dataset\n",
    "-  Split the dataset into feature set (X) and the target variable (y). The target variable is ‘OnDiab’, indicating onset of diabetes within five years.\n",
    "-  Find the unique number of classes for the target variable.\n",
    "-  Split the dataset into training and test datasets\n",
    "-  Train KNearestNeighbor classifer on your train dataset and print the score on the the test dataset. Set number of neighbors to 5.\n",
    "- Import GridSearchCV from `sklearn.modelselection`\n",
    "-  Split your data into train and test datasets\n",
    "-  For neighbors=1 to 30, compute GridSearchCV for train dataset with kfold=10. 12. Print the best cross validation score\n",
    "-  Print the best parameter\n",
    "-  Print the test score"
   ]
  },
  {
   "cell_type": "code",
   "execution_count": 1,
   "id": "d9cca968-66da-4745-88c0-803fdcde815e",
   "metadata": {},
   "outputs": [
    {
     "name": "stdout",
     "output_type": "stream",
     "text": [
      "    6  148  72  35    0  33.6  0.627  50  1\n",
      "0   1   85  66  29    0  26.6  0.351  31  0\n",
      "1   8  183  64   0    0  23.3  0.672  32  1\n",
      "2   1   89  66  23   94  28.1  0.167  21  0\n",
      "3   0  137  40  35  168  43.1  2.288  33  1\n",
      "4   5  116  74   0    0  25.6  0.201  30  0\n",
      "5   3   78  50  32   88  31.0  0.248  26  1\n",
      "6  10  115   0   0    0  35.3  0.134  29  0\n",
      "7   2  197  70  45  543  30.5  0.158  53  1\n",
      "8   8  125  96   0    0   0.0  0.232  54  1\n",
      "9   4  110  92   0    0  37.6  0.191  30  0\n",
      "Shape of the dataset: (767, 9)\n",
      "Column names: ['6', '148', '72', '35', '0', '33.6', '0.627', '50', '1']\n"
     ]
    }
   ],
   "source": [
    "import pandas as pd\n",
    "\n",
    "# Load the dataset\n",
    "df = pd.read_csv('Diabetes.csv')\n",
    "\n",
    "# Print the first ten observations\n",
    "print(df.head(10))\n",
    "\n",
    "# Check the shape of the dataset\n",
    "print(\"Shape of the dataset:\", df.shape)\n",
    "\n",
    "# Print the column names of the dataset\n",
    "print(\"Column names:\", df.columns.tolist())"
   ]
  },
  {
   "cell_type": "code",
   "execution_count": null,
   "id": "d92a673c",
   "metadata": {},
   "outputs": [],
   "source": [
    "# Split the dataset into feature set (X) and target variable (y)\n",
    "X = df.drop(columns=['OnDiab'])\n",
    "y = df['OnDiab']\n",
    "\n",
    "unique_classes = y.unique()\n",
    "print(\"Unique classes in the target variable:\", unique_classes)\n",
    "print(\"Number of unique classes:\", len(unique_classes))"
   ]
  },
  {
   "cell_type": "code",
   "execution_count": null,
   "id": "52e03584",
   "metadata": {},
   "outputs": [],
   "source": [
    "from sklearn.model_selection import train_test_split\n",
    "\n",
    "X_train, X_test, y_train, y_test = train_test_split(X, y, test_size=0.2, random_state=42)\n"
   ]
  },
  {
   "cell_type": "code",
   "execution_count": null,
   "id": "515fc6da",
   "metadata": {},
   "outputs": [],
   "source": [
    "from sklearn.neighbors import KNeighborsClassifier\n",
    "\n",
    "knn = KNeighborsClassifier(n_neighbors=5)\n",
    "knn.fit(X_train, y_train)\n",
    "\n",
    "# Print the score on the test dataset\n",
    "test_score = knn.score(X_test, y_test)\n",
    "print(\"Test score with K=5:\", test_score)"
   ]
  },
  {
   "cell_type": "code",
   "execution_count": null,
   "id": "ccdb4236",
   "metadata": {},
   "outputs": [],
   "source": [
    "from sklearn.model_selection import GridSearchCV\n",
    "\n",
    "param_grid = {'n_neighbors': range(1, 31)}\n",
    "\n",
    "# Create a GridSearchCV object with KNeighborsClassifier\n",
    "grid_search = GridSearchCV(KNeighborsClassifier(), param_grid, cv=10)\n",
    "\n",
    "grid_search.fit(X_train, y_train)\n",
    "\n",
    "print(\"Best cross-validation score:\", grid_search.best_score_)\n",
    "\n",
    "print(\"Best parameter (n_neighbors):\", grid_search.best_params_)\n",
    "\n",
    "best_knn = grid_search.best_estimator_\n",
    "test_score_best = best_knn.score(X_test, y_test)\n",
    "print(\"Test score with best parameter:\", test_score_best)"
   ]
  }
 ],
 "metadata": {
  "kernelspec": {
   "display_name": "Python 3",
   "language": "python",
   "name": "python3"
  },
  "language_info": {
   "codemirror_mode": {
    "name": "ipython",
    "version": 3
   },
   "file_extension": ".py",
   "mimetype": "text/x-python",
   "name": "python",
   "nbconvert_exporter": "python",
   "pygments_lexer": "ipython3",
   "version": "3.11.9"
  }
 },
 "nbformat": 4,
 "nbformat_minor": 5
}
