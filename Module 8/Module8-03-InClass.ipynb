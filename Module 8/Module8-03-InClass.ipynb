{
 "cells": [
  {
   "cell_type": "code",
   "execution_count": null,
   "metadata": {},
   "outputs": [],
   "source": [
    "# import important packages\n",
    "import numpy as np\n",
    "import pandas as pd\n",
    "import matplotlib.pyplot as plt\n",
    "import seaborn as sns\n",
    "\n",
    "\n",
    "from sklearn.model_selection import train_test_split\n",
    "from sklearn.ensemble import RandomForestClassifier\n",
    "from sklearn.metrics import accuracy_score\n",
    "from sklearn.preprocessing import StandardScaler, MinMaxScaler\n",
    "from sklearn.impute import SimpleImputer\n",
    "from sklearn.pipeline import Pipeline\n",
    "from sklearn.compose import ColumnTransformer\n",
    "\n",
    "from matplotlib import rcParams\n",
    "import warnings\n",
    "\n",
    "warnings.filterwarnings(\"ignore\")\n",
    "\n",
    "# figure size in inches\n",
    "rcParams[\"figure.figsize\"] = 10, 6\n",
    "np.random.seed(42)"
   ]
  },
  {
   "cell_type": "markdown",
   "metadata": {},
   "source": [
    "## 1. Load Dataset\n",
    "- Load the `prime_indians_diabetes` dataset\n",
    "- Check the first five samples. Are there any categorical features?\n",
    "- Is this a classification or regression problem?\n",
    "- Check the columns of the dataset"
   ]
  },
  {
   "cell_type": "markdown",
   "metadata": {},
   "source": [
    " There are  8 input variables and 1 output variable. Missing values are believed to be encoded with zero values. The variable names are as follows:\n",
    "\n",
    "- Number of times pregnant.\n",
    "- Plasma glucose concentration a 2 hours in an oral glucose tolerance test.\n",
    "- Diastolic blood pressure (mm Hg).\n",
    "- Triceps skinfold thickness (mm).\n",
    "- 2-Hour serum insulin (mu U/ml).\n",
    "- Body mass index (weight in kg/(height in m)^2).\n",
    "- Diabetes pedigree function.\n",
    "- Age (years).\n",
    "- Class variable (0 or 1)."
   ]
  },
  {
   "cell_type": "code",
   "execution_count": 6,
   "metadata": {},
   "outputs": [
    {
     "data": {
      "text/plain": [
       "<bound method NDFrame.head of      time_pregnant_no  plasma_concentration  diastolic_blood_pressure  \\\n",
       "0                   6                   148                        72   \n",
       "1                   1                    85                        66   \n",
       "2                   8                   183                        64   \n",
       "3                   1                    89                        66   \n",
       "4                   0                   137                        40   \n",
       "..                ...                   ...                       ...   \n",
       "763                10                   101                        76   \n",
       "764                 2                   122                        70   \n",
       "765                 5                   121                        72   \n",
       "766                 1                   126                        60   \n",
       "767                 1                    93                        70   \n",
       "\n",
       "     triceps_skinfold_thickness  serum_insulin   bmi  diabetes_pedigree  age  \\\n",
       "0                            35              0  33.6              0.627   50   \n",
       "1                            29              0  26.6              0.351   31   \n",
       "2                             0              0  23.3              0.672   32   \n",
       "3                            23             94  28.1              0.167   21   \n",
       "4                            35            168  43.1              2.288   33   \n",
       "..                          ...            ...   ...                ...  ...   \n",
       "763                          48            180  32.9              0.171   63   \n",
       "764                          27              0  36.8              0.340   27   \n",
       "765                          23            112  26.2              0.245   30   \n",
       "766                           0              0  30.1              0.349   47   \n",
       "767                          31              0  30.4              0.315   23   \n",
       "\n",
       "     class  \n",
       "0        1  \n",
       "1        0  \n",
       "2        1  \n",
       "3        0  \n",
       "4        1  \n",
       "..     ...  \n",
       "763      0  \n",
       "764      0  \n",
       "765      0  \n",
       "766      1  \n",
       "767      0  \n",
       "\n",
       "[768 rows x 9 columns]>"
      ]
     },
     "execution_count": 6,
     "metadata": {},
     "output_type": "execute_result"
    }
   ],
   "source": [
    "df = pd.read_csv('pima_indians_diabetes.csv')\n",
    "\n",
    "df.head\n"
   ]
  },
  {
   "cell_type": "code",
   "execution_count": 10,
   "metadata": {},
   "outputs": [
    {
     "data": {
      "text/plain": [
       "time_pregnant_no                int64\n",
       "plasma_concentration            int64\n",
       "diastolic_blood_pressure        int64\n",
       "triceps_skinfold_thickness      int64\n",
       "serum_insulin                   int64\n",
       "bmi                           float64\n",
       "diabetes_pedigree             float64\n",
       "age                             int64\n",
       "class                           int64\n",
       "dtype: object"
      ]
     },
     "execution_count": 10,
     "metadata": {},
     "output_type": "execute_result"
    }
   ],
   "source": [
    "# Check the data types of each column\n",
    "df.dtypes\n"
   ]
  },
  {
   "cell_type": "code",
   "execution_count": 11,
   "metadata": {},
   "outputs": [
    {
     "data": {
      "text/plain": [
       "array([1, 0], dtype=int64)"
      ]
     },
     "execution_count": 11,
     "metadata": {},
     "output_type": "execute_result"
    }
   ],
   "source": [
    "# Check for unique values in the 'Class' column (which is the target variable)\n",
    "df['class'].unique()"
   ]
  },
  {
   "cell_type": "code",
   "execution_count": 13,
   "metadata": {},
   "outputs": [
    {
     "data": {
      "text/plain": [
       "class\n",
       "0    500\n",
       "1    268\n",
       "Name: count, dtype: int64"
      ]
     },
     "execution_count": 13,
     "metadata": {},
     "output_type": "execute_result"
    }
   ],
   "source": [
    "# Check the distribution of the target variable (Class)\n",
    "df['class'].value_counts()"
   ]
  },
  {
   "cell_type": "code",
   "execution_count": 14,
   "metadata": {},
   "outputs": [
    {
     "data": {
      "text/plain": [
       "Index(['time_pregnant_no', 'plasma_concentration', 'diastolic_blood_pressure',\n",
       "       'triceps_skinfold_thickness', 'serum_insulin', 'bmi',\n",
       "       'diabetes_pedigree', 'age', 'class'],\n",
       "      dtype='object')"
      ]
     },
     "execution_count": 14,
     "metadata": {},
     "output_type": "execute_result"
    }
   ],
   "source": [
    "# Check the column names in the dataset\n",
    "df.columns"
   ]
  },
  {
   "cell_type": "code",
   "execution_count": 15,
   "metadata": {},
   "outputs": [
    {
     "data": {
      "text/plain": [
       "time_pregnant_no              111\n",
       "plasma_concentration            5\n",
       "diastolic_blood_pressure       35\n",
       "triceps_skinfold_thickness    227\n",
       "serum_insulin                 374\n",
       "bmi                            11\n",
       "diabetes_pedigree               0\n",
       "age                             0\n",
       "class                         500\n",
       "dtype: int64"
      ]
     },
     "execution_count": 15,
     "metadata": {},
     "output_type": "execute_result"
    }
   ],
   "source": [
    "# Check for zero values in the input columns\n",
    "df[df == 0].count()\n"
   ]
  },
  {
   "cell_type": "markdown",
   "metadata": {},
   "source": [
    "## 2. Data Preprocessing and Model\n",
    "- Assign features to `X` and target variable to `y`\n",
    "- Create a pipeline for preprocessing which includes imputing and standardscaling\n",
    "- Create a pipeline for preprocessor and decision tree classifier.\n",
    "- Tune up the model (adjust the max depth using grid search\n",
    "- Train the model and make your predictions on the test dataset\n",
    "- List the feature importance and the corresponding features\n",
    "- Create a bar plot for the feature importances\n",
    "- Drop the least important feature from the data and repeat the steps above"
   ]
  },
  {
   "cell_type": "code",
   "execution_count": 17,
   "metadata": {},
   "outputs": [],
   "source": [
    "# Assign features to X and target to y\n",
    "X = df.drop('class', axis=1)\n",
    "y = df['class']\n"
   ]
  },
  {
   "cell_type": "code",
   "execution_count": null,
   "metadata": {},
   "outputs": [],
   "source": [
    "from sklearn.pipeline import Pipeline\n",
    "from sklearn.impute import SimpleImputer\n",
    "from sklearn.preprocessing import StandardScaler\n",
    "\n",
    "# Create a preprocessing pipeline\n",
    "preprocessor = Pipeline(steps=[\n",
    "    ('imputer', SimpleImputer(strategy='mean')),  # Impute missing values with mean\n",
    "    ('scaler', StandardScaler())  # Scale the features using StandardScaler\n",
    "])"
   ]
  },
  {
   "cell_type": "code",
   "execution_count": 19,
   "metadata": {},
   "outputs": [],
   "source": [
    "from sklearn.tree import DecisionTreeClassifier\n",
    "\n",
    "# Create a full pipeline with preprocessing and a decision tree classifier\n",
    "model_pipeline = Pipeline(steps=[\n",
    "    ('preprocessor', preprocessor),  # Apply preprocessing steps\n",
    "    ('classifier', DecisionTreeClassifier(random_state=42))  # Decision tree model\n",
    "])\n"
   ]
  },
  {
   "cell_type": "code",
   "execution_count": 20,
   "metadata": {},
   "outputs": [
    {
     "name": "stdout",
     "output_type": "stream",
     "text": [
      "Fitting 5 folds for each of 6 candidates, totalling 30 fits\n",
      "Best parameters: {'classifier__max_depth': 5}\n"
     ]
    }
   ],
   "source": [
    "from sklearn.model_selection import GridSearchCV\n",
    "\n",
    "# Set up the parameter grid for tuning max_depth\n",
    "param_grid = {'classifier__max_depth': [3, 5, 7, 10, 15, None]}\n",
    "\n",
    "# Create the grid search with cross-validation\n",
    "grid_search = GridSearchCV(model_pipeline, param_grid, cv=5, n_jobs=-1, verbose=1)\n",
    "\n",
    "# Fit the model using grid search\n",
    "grid_search.fit(X, y)\n",
    "\n",
    "# Best parameters from grid search\n",
    "print(f\"Best parameters: {grid_search.best_params_}\")\n"
   ]
  },
  {
   "cell_type": "code",
   "execution_count": null,
   "metadata": {},
   "outputs": [],
   "source": [
    "# Use the best model to make predictions\n",
    "best_model = grid_search.best_estimator_\n",
    "\n",
    "# Make predictions on the test data (assuming you have a test set)\n",
    "y_pred = best_model.predict(X_test)\n",
    "\n",
    "# Evaluate the model's performance (e.g., accuracy)\n",
    "from sklearn.metrics import accuracy_score\n",
    "print(f\"Test Accuracy: {accuracy_score(y_test, y_pred)}\")\n"
   ]
  },
  {
   "cell_type": "code",
   "execution_count": 23,
   "metadata": {},
   "outputs": [
    {
     "name": "stdout",
     "output_type": "stream",
     "text": [
      "                      Feature  Importance\n",
      "1        plasma_concentration    0.490711\n",
      "5                         bmi    0.220519\n",
      "7                         age    0.137122\n",
      "6           diabetes_pedigree    0.067679\n",
      "2    diastolic_blood_pressure    0.041691\n",
      "4               serum_insulin    0.031066\n",
      "0            time_pregnant_no    0.011211\n",
      "3  triceps_skinfold_thickness    0.000000\n"
     ]
    }
   ],
   "source": [
    "# Get feature importances\n",
    "importances = best_model.named_steps['classifier'].feature_importances_\n",
    "\n",
    "# Create a DataFrame for feature importances and corresponding feature names\n",
    "feature_importance_df = pd.DataFrame({\n",
    "    'Feature': X.columns,\n",
    "    'Importance': importances\n",
    "})\n",
    "\n",
    "# Sort the DataFrame by importance\n",
    "feature_importance_df = feature_importance_df.sort_values(by='Importance', ascending=False)\n",
    "\n",
    "# Print feature importances\n",
    "print(feature_importance_df)\n"
   ]
  },
  {
   "cell_type": "code",
   "execution_count": 26,
   "metadata": {},
   "outputs": [
    {
     "data": {
      "image/png": "[encoded data removed]",
      "text/plain": [
       "<Figure size 1000x600 with 1 Axes>"
      ]
     },
     "metadata": {},
     "output_type": "display_data"
    }
   ],
   "source": [
    "# Create a bar plot for feature importances\n",
    "plt.figure(figsize=(10, 6))\n",
    "plt.barh(feature_importance_df['Feature'], feature_importance_df['Importance'])\n",
    "plt.xlabel('Importance')\n",
    "plt.title('Feature Importances')\n",
    "plt.gca().invert_yaxis()  # To have the most important feature at the top\n",
    "plt.show()\n"
   ]
  },
  {
   "cell_type": "code",
   "execution_count": 27,
   "metadata": {},
   "outputs": [
    {
     "name": "stdout",
     "output_type": "stream",
     "text": [
      "Fitting 5 folds for each of 6 candidates, totalling 30 fits\n",
      "Test Accuracy after removing least important feature: 0.7597402597402597\n"
     ]
    },
    {
     "data": {
      "image/png": "[encoded data removed]",
      "text/plain": [
       "<Figure size 1000x600 with 1 Axes>"
      ]
     },
     "metadata": {},
     "output_type": "display_data"
    }
   ],
   "source": [
    "# Drop the least important feature\n",
    "least_important_feature = feature_importance_df.tail(1)['Feature'].values[0]\n",
    "X_reduced = X.drop(columns=[least_important_feature])\n",
    "\n",
    "# Create a new pipeline for preprocessing and training\n",
    "X_train_reduced, X_test_reduced, y_train, y_test = train_test_split(X_reduced, y, test_size=0.2, random_state=42)\n",
    "\n",
    "# Repeat the same steps with the reduced dataset\n",
    "grid_search.fit(X_train_reduced, y_train)\n",
    "best_model_reduced = grid_search.best_estimator_\n",
    "\n",
    "# Make predictions on the test data with the reduced feature set\n",
    "y_pred_reduced = best_model_reduced.predict(X_test_reduced)\n",
    "\n",
    "# Evaluate the model\n",
    "print(f\"Test Accuracy after removing least important feature: {accuracy_score(y_test, y_pred_reduced)}\")\n",
    "\n",
    "# Get and plot feature importances again\n",
    "importances_reduced = best_model_reduced.named_steps['classifier'].feature_importances_\n",
    "feature_importance_df_reduced = pd.DataFrame({\n",
    "    'Feature': X_reduced.columns,\n",
    "    'Importance': importances_reduced\n",
    "}).sort_values(by='Importance', ascending=False)\n",
    "\n",
    "# Plot the updated feature importances\n",
    "plt.figure(figsize=(10, 6))\n",
    "plt.barh(feature_importance_df_reduced['Feature'], feature_importance_df_reduced['Importance'])\n",
    "plt.xlabel('Importance')\n",
    "plt.title('Feature Importances After Removing Least Important Feature')\n",
    "plt.gca().invert_yaxis()  # To have the most important feature at the top\n",
    "plt.show()\n"
   ]
  }
 ],
 "metadata": {
  "hide_input": false,
  "kernelspec": {
   "display_name": "Python 3",
   "language": "python",
   "name": "python3"
  },
  "language_info": {
   "codemirror_mode": {
    "name": "ipython",
    "version": 3
   },
   "file_extension": ".py",
   "mimetype": "text/x-python",
   "name": "python",
   "nbconvert_exporter": "python",
   "pygments_lexer": "ipython3",
   "version": "3.11.9"
  },
  "toc": {
   "base_numbering": 1,
   "nav_menu": {},
   "number_sections": true,
   "sideBar": true,
   "skip_h1_title": false,
   "title_cell": "Table of Contents",
   "title_sidebar": "Contents",
   "toc_cell": false,
   "toc_position": {},
   "toc_section_display": true,
   "toc_window_display": false
  }
 },
 "nbformat": 4,
 "nbformat_minor": 4
}
